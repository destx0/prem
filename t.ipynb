{
 "cells": [
  {
   "cell_type": "code",
   "execution_count": 6,
   "metadata": {},
   "outputs": [
    {
     "name": "stdout",
     "output_type": "stream",
     "text": [
      "[8, 6, 5, 2]\n",
      "[9, 8, 6, 5, 3]\n",
      "[6, 7, 6, 0, 4]\n",
      "[9, 8, 9]\n"
     ]
    }
   ],
   "source": [
    "def max_number_from_two_lists(id_digits, enrol_digits, P):\n",
    "    def pick_max_digits(nums, k):\n",
    "        \"\"\"Helper function to pick maximum k digits from the list nums while maintaining the relative order.\"\"\"\n",
    "        stack = []\n",
    "        drop = len(nums) - k\n",
    "        for num in nums:\n",
    "            while drop and stack and stack[-1] < num:\n",
    "                stack.pop()\n",
    "                drop -= 1\n",
    "            stack.append(num)\n",
    "        return stack[:k]\n",
    "\n",
    "    def merge(nums1, nums2):\n",
    "        \"\"\"Helper function to merge two lists to form the largest possible number while maintaining relative order.\"\"\"\n",
    "        return [max(nums1, nums2).pop(0) for _ in range(len(nums1) + len(nums2))]\n",
    "\n",
    "    max_number = []\n",
    "    for i in range(max(0, P - len(enrol_digits)), min(P, len(id_digits)) + 1):\n",
    "        max_id_digits = pick_max_digits(id_digits, i)\n",
    "        max_enrol_digits = pick_max_digits(enrol_digits, P - i)\n",
    "        current_number = merge(max_id_digits, max_enrol_digits)\n",
    "        if current_number > max_number:\n",
    "            max_number = current_number\n",
    "\n",
    "    return max_number\n",
    "\n",
    "\n",
    "# Test Cases\n",
    "if __name__ == \"__main__\":\n",
    "    # Test Case 1\n",
    "    id_digits = [2, 6, 5]\n",
    "    enrol_digits = [1, 5 ,8, 2]\n",
    "    P = 4\n",
    "    print(max_number_from_two_lists(id_digits, enrol_digits, P))  # Output: [8, 6, 5, 2]\n",
    "\n",
    "    # Additional Test Cases\n",
    "    id_digits = [3, 4, 6, 5]\n",
    "    enrol_digits = [9, 1, 2, 5, 8, 3]\n",
    "    P = 5\n",
    "    print(\n",
    "        max_number_from_two_lists(id_digits, enrol_digits, P)\n",
    "    )  # Output: [9, 8, 6, 5, 3]\n",
    "\n",
    "    id_digits = [6, 7]\n",
    "    enrol_digits = [6, 0, 4]\n",
    "    P = 5\n",
    "    print(\n",
    "        max_number_from_two_lists(id_digits, enrol_digits, P)\n",
    "    )  # Output: [6, 7, 6, 4, 0]\n",
    "\n",
    "    id_digits = [3, 9]\n",
    "    enrol_digits = [8, 9]\n",
    "    P = 3\n",
    "    print(max_number_from_two_lists(id_digits, enrol_digits, P))  # Output: [9, 8, 9]"
   ]
  },
  {
   "cell_type": "code",
   "execution_count": 2,
   "metadata": {},
   "outputs": [],
   "source": [
    "arr = [10 , 15 , 20]\n",
    "n = len(arr)\n",
    "class Node:\n",
    "    def __init__(self, data):\n",
    "        self.data = data\n",
    "        self.left = None\n",
    "        self.right = None\n",
    "        \n"
   ]
  },
  {
   "cell_type": "code",
   "execution_count": 3,
   "metadata": {},
   "outputs": [
    {
     "name": "stdout",
     "output_type": "stream",
     "text": [
      ".:  1\n",
      "  L:  2\n",
      "    L:  4\n",
      "    R:  5\n",
      "  R:  3\n",
      "    L:  6\n",
      "    R:  7\n"
     ]
    }
   ],
   "source": [
    "class TreeNode:\n",
    "    def __init__(self, value):\n",
    "        self.value = value\n",
    "        self.left = None\n",
    "        self.right = None\n",
    "\n",
    "\n",
    "def build_binary_tree(edges):\n",
    "    if not edges:\n",
    "        return None\n",
    "\n",
    "    nodes = {}\n",
    "\n",
    "    for parent, child in edges:\n",
    "        if parent not in nodes:\n",
    "            nodes[parent] = TreeNode(parent)\n",
    "        if child not in nodes:\n",
    "            nodes[child] = TreeNode(child)\n",
    "\n",
    "        if nodes[parent].left is None:\n",
    "            nodes[parent].left = nodes[child]\n",
    "        elif nodes[parent].right is None:\n",
    "            nodes[parent].right = nodes[child]\n",
    "        else:\n",
    "            raise ValueError(f\"Node {parent} has more than two children.\")\n",
    "\n",
    "    # To find the root, we need to find a node that is not anyone's child\n",
    "    children = set(child for _, child in edges)\n",
    "    for node in nodes:\n",
    "        if node not in children:\n",
    "            return nodes[node]\n",
    "\n",
    "    return None\n",
    "\n",
    "\n",
    "# Helper function to print the tree (for testing purposes)\n",
    "def print_tree(root, level=0, label=\".\"):\n",
    "    print(\" \" * (level * 2) + label + \": \", root.value)\n",
    "    if root.left:\n",
    "        print_tree(root.left, level + 1, \"L\")\n",
    "    if root.right:\n",
    "        print_tree(root.right, level + 1, \"R\")\n",
    "\n",
    "\n",
    "# Example usage\n",
    "edges = [(1, 2), (1, 3), (2, 4), (2, 5), (3, 6), (3, 7)]\n",
    "\n",
    "root = build_binary_tree(edges)\n",
    "print_tree(root)"
   ]
  }
 ],
 "metadata": {
  "kernelspec": {
   "display_name": "prem312",
   "language": "python",
   "name": "python3"
  },
  "language_info": {
   "codemirror_mode": {
    "name": "ipython",
    "version": 3
   },
   "file_extension": ".py",
   "mimetype": "text/x-python",
   "name": "python",
   "nbconvert_exporter": "python",
   "pygments_lexer": "ipython3",
   "version": "3.12.3"
  }
 },
 "nbformat": 4,
 "nbformat_minor": 2
}
