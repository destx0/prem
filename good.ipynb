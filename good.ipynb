{
 "cells": [
  {
   "cell_type": "code",
   "execution_count": 162,
   "metadata": {},
   "outputs": [],
   "source": [
    "import random\n",
    "import hashlib\n",
    "import time\n",
    "from collections import defaultdict"
   ]
  },
  {
   "cell_type": "code",
   "execution_count": 163,
   "metadata": {},
   "outputs": [],
   "source": [
    "def h(s):\n",
    "    return int(hashlib.sha256(str(s).encode('utf-8')).hexdigest(), 16) %100\n",
    "\n",
    "def concat(a):\n",
    "    return \"\".join([str(x) for x in a])"
   ]
  },
  {
   "cell_type": "code",
   "execution_count": 164,
   "metadata": {},
   "outputs": [],
   "source": [
    "idi  = random.randint(1, 2**3)\n",
    "sni = random.randint(1, 2**3)\n",
    "\n"
   ]
  },
  {
   "cell_type": "code",
   "execution_count": 165,
   "metadata": {},
   "outputs": [],
   "source": [
    "k = random.randint(1, 2**3)\n",
    "gateway_private = {\"K\" :k}\n",
    "GW_private = defaultdict(dict)\n",
    "SM_private = defaultdict(dict)"
   ]
  },
  {
   "cell_type": "code",
   "execution_count": 166,
   "metadata": {},
   "outputs": [],
   "source": [
    "def GW_registration(params):\n",
    "    idi = params[0]\n",
    "    hsni = params[1]\n",
    "    k = gateway_private[\"K\"]\n",
    "    xi = random.randint(1, 2**3)\n",
    "    GW_private[idi][\"xi\"] = xi\n",
    "    GW_private[idi][\"hsni\"] = hsni\n",
    "    Ni = h(concat([idi, hsni])) ^ h(concat([k , xi]))\n",
    "    return Ni, xi"
   ]
  },
  {
   "cell_type": "code",
   "execution_count": 167,
   "metadata": {},
   "outputs": [],
   "source": [
    "def SM_init(uuid):\n",
    "    idi  = random.randint(1, 2**3)\n",
    "    sni = random.randint(1, 2**3)\n",
    "    hsni = h(sni)\n",
    "    SM_private[uuid] = {\"idi\" : idi, \"sni\" : sni, \"hsni\" : hsni}\n",
    "    return (idi,  hsni)"
   ]
  },
  {
   "cell_type": "code",
   "execution_count": 168,
   "metadata": {},
   "outputs": [],
   "source": [
    "uuid = 2\n",
    "r = GW_registration(SM_init(uuid))  \n",
    "SM_private[uuid][\"Ni\"] , SM_private[uuid][\"xi\"] = r[0], r[1]"
   ]
  },
  {
   "cell_type": "code",
   "execution_count": 169,
   "metadata": {},
   "outputs": [
    {
     "data": {
      "text/plain": [
       "defaultdict(dict, {2: {'idi': 3, 'sni': 2, 'hsni': 61, 'Ni': 11, 'xi': 2}})"
      ]
     },
     "execution_count": 169,
     "metadata": {},
     "output_type": "execute_result"
    }
   ],
   "source": [
    "SM_private"
   ]
  },
  {
   "cell_type": "code",
   "execution_count": 170,
   "metadata": {},
   "outputs": [],
   "source": [
    "\n",
    "verifiction_params = GW_registration(r)\n"
   ]
  },
  {
   "cell_type": "code",
   "execution_count": null,
   "metadata": {},
   "outputs": [],
   "source": []
  },
  {
   "cell_type": "code",
   "execution_count": 171,
   "metadata": {},
   "outputs": [],
   "source": [
    "import time\n",
    "import random\n",
    "\n",
    "\n",
    "def SMI_verify(uuid):\n",
    "    idi = SM_private[uuid][\"idi\"]\n",
    "    hsni = SM_private[uuid][\"hsni\"]\n",
    "    t1 = time.time()\n",
    "    xi = SM_private[uuid][\"xi\"]\n",
    "    ni = SM_private[uuid][\"Ni\"]\n",
    "\n",
    "    print(\"idi:\", idi)\n",
    "    print(\"hsni:\", hsni)\n",
    "    print(\"t1:\", t1)\n",
    "    print(\"xi:\", xi)\n",
    "    print(\"ni:\", ni)\n",
    "\n",
    "    print(\n",
    "        \"h(concat([xi, t1])\",\n",
    "        h(concat([xi, t1])),\n",
    "        \"concat([idi, hsni]))\",\n",
    "        h(concat([idi, hsni])),\n",
    "    )\n",
    "\n",
    "    didi = h(concat([idi, hsni])) ^ h(concat([xi, t1]))\n",
    "\n",
    "    ki = random.randint(1, 2**3)\n",
    "    SM_private[uuid][\"ki\"] = ki\n",
    "\n",
    "    a = ni ^ h(concat([idi, sni]))\n",
    "    pki = h(concat([a, t1])) ^ ki\n",
    "    bi = h(concat([ni, xi, t1, pki]))\n",
    "\n",
    "    rparams = {}\n",
    "    rparams[\"idi\"] = idi\n",
    "    rparams[\"didi\"] = didi\n",
    "    rparams[\"pki\"] = pki\n",
    "    rparams[\"bi\"] = bi\n",
    "    rparams[\"ti\"] = t1\n",
    "\n",
    "    print(\"didi:\", didi)\n",
    "    print(\"ki:\", ki)\n",
    "    print(\"pki:\", pki)\n",
    "    print(\"bi:\", bi)\n",
    "    print(\"rparams:\", rparams)\n",
    "\n",
    "    return rparams"
   ]
  },
  {
   "cell_type": "code",
   "execution_count": 172,
   "metadata": {},
   "outputs": [
    {
     "data": {
      "text/plain": [
       "{'idi': 3, 'sni': 2, 'hsni': 61, 'Ni': 11, 'xi': 2}"
      ]
     },
     "execution_count": 172,
     "metadata": {},
     "output_type": "execute_result"
    }
   ],
   "source": [
    "SM_private[2]"
   ]
  },
  {
   "cell_type": "code",
   "execution_count": 173,
   "metadata": {},
   "outputs": [
    {
     "name": "stdout",
     "output_type": "stream",
     "text": [
      "idi: 3\n",
      "hsni: 61\n",
      "t1: 1710425031.5375154\n",
      "xi: 2\n",
      "ni: 11\n",
      "h(concat([xi, t1]) 58 concat([idi, hsni])) 16\n",
      "didi: 42\n",
      "ki: 2\n",
      "pki: 25\n",
      "bi: 80\n",
      "rparams: {'idi': 3, 'didi': 42, 'pki': 25, 'bi': 80, 'ti': 1710425031.5375154}\n",
      "{'idi': 3, 'didi': 42, 'pki': 25, 'bi': 80, 'ti': 1710425031.5375154}\n",
      "gwidi defaultdict(<class 'dict'>, {3: {'xi': 2, 'hsni': 61}, 11: {'xi': 3, 'hsni': 2}})\n"
     ]
    }
   ],
   "source": [
    "rparams = SMI_verify(2)\n",
    "print(rparams)\n",
    "print(\"gwidi\" , GW_private)\n",
    "\n"
   ]
  },
  {
   "cell_type": "code",
   "execution_count": 174,
   "metadata": {},
   "outputs": [],
   "source": [
    "def GW_verify(rparams):\n",
    "    t_ = time.time()\n",
    "    t1 = rparams[\"ti\"]\n",
    "    dt = 10000\n",
    "    if t_ - t1 > dt:\n",
    "        print(\"time out\")\n",
    "    idi = rparams[\"idi\"]\n",
    "    xi = GW_private[rparams[\"idi\"]][\"xi\"]\n",
    "    hsni = GW_private[rparams[\"idi\"]][\"hsni\"]\n",
    "    lhs = h(concat([idi, hsni]))\n",
    "    didi = rparams[\"didi\"]\n",
    "    ti  = rparams[\"ti\"]\n",
    "    rhs = didi ^ h(concat([xi, ti]))\n",
    "    k = gateway_private[\"K\"]\n",
    "    pki = rparams[\"pki\"]\n",
    "    bi_ = h(concat([lhs ^ h(concat([k , xi])) , xi , ti , pki]))\n",
    "    \n",
    "    \n",
    "    ki = h(h(concat([k, xi])))\n",
    "    return True if bi_ == rparams[\"bi\"] else False\n",
    "    # print(bi_ == rparams[\"bi\"])\n",
    "# print(GW_verify(rparams))"
   ]
  },
  {
   "cell_type": "code",
   "execution_count": 175,
   "metadata": {},
   "outputs": [
    {
     "data": {
      "text/plain": [
       "True"
      ]
     },
     "execution_count": 175,
     "metadata": {},
     "output_type": "execute_result"
    }
   ],
   "source": [
    "GW_verify(rparams)"
   ]
  }
 ],
 "metadata": {
  "kernelspec": {
   "display_name": "gpy12",
   "language": "python",
   "name": "python3"
  },
  "language_info": {
   "codemirror_mode": {
    "name": "ipython",
    "version": 3
   },
   "file_extension": ".py",
   "mimetype": "text/x-python",
   "name": "python",
   "nbconvert_exporter": "python",
   "pygments_lexer": "ipython3",
   "version": "3.12.2"
  }
 },
 "nbformat": 4,
 "nbformat_minor": 2
}
