{
 "cells": [
  {
   "cell_type": "code",
   "execution_count": 1,
   "metadata": {},
   "outputs": [],
   "source": [
    "import random\n",
    "import hashlib\n",
    "import time"
   ]
  },
  {
   "cell_type": "code",
   "execution_count": 2,
   "metadata": {},
   "outputs": [],
   "source": [
    "def h(s):\n",
    "    return int(hashlib.sha256(str(s).encode('utf-8')).hexdigest(), 16)%1000\n",
    "\n",
    "def concat(a):\n",
    "    return \"\".join([str(x) for x in a])"
   ]
  },
  {
   "cell_type": "code",
   "execution_count": 3,
   "metadata": {},
   "outputs": [],
   "source": [
    "idi = random.randint(1, 100)\n",
    "sni = random.randint(1,   100)\n",
    "hsni = h(sni)\n",
    "xi = random.randint(1, 100)\n",
    "k = random.randint(1, 100)\n",
    "ni = h(concat([idi , hsni])) ^ h(concat([k , xi]))\n",
    "hhsni = h(hsni)"
   ]
  },
  {
   "cell_type": "code",
   "execution_count": 4,
   "metadata": {},
   "outputs": [],
   "source": [
    "t1 = time.time()\n",
    "didi = h(concat([idi, hsni]))^h(concat([xi, t1]))\n",
    "ki = random.randint(1, 100)\n",
    "pki = h(ni ^h(concat([idi , h(sni)])))\n",
    "bi = h(concat([ni , xi , t1 , pki]))"
   ]
  },
  {
   "cell_type": "code",
   "execution_count": 5,
   "metadata": {},
   "outputs": [],
   "source": [
    "ts = time.time()\n",
    "dt = 100000"
   ]
  },
  {
   "cell_type": "code",
   "execution_count": 6,
   "metadata": {},
   "outputs": [],
   "source": [
    "if (ts - t1) > dt:\n",
    "    print(\"Error: Time difference too big\")\n",
    "    exit(1)\n",
    "hidihsni_ = didi^h(concat([xi,t1]))"
   ]
  },
  {
   "cell_type": "code",
   "execution_count": 7,
   "metadata": {},
   "outputs": [],
   "source": [
    "bi_ = h( concat([hidihsni_ ^ h(concat([k ,xi ])) , xi , t1 , pki]) )"
   ]
  },
  {
   "cell_type": "code",
   "execution_count": 8,
   "metadata": {},
   "outputs": [
    {
     "data": {
      "text/plain": [
       "True"
      ]
     },
     "execution_count": 8,
     "metadata": {},
     "output_type": "execute_result"
    }
   ],
   "source": [
    "bi ==bi_"
   ]
  },
  {
   "cell_type": "code",
   "execution_count": 9,
   "metadata": {},
   "outputs": [],
   "source": [
    "ki = h(concat([h(concat([k, xi])) ,t1])) ^ pki\n",
    "kgw = random.randint(1, 100)\n",
    "t2 = time.time()\n",
    "pkgw = kgw ^ h(concat([ki , t2 , xi]))\n",
    "ci = h(concat([didi , t2 , ki , pkgw])) ^ h(concat([k , xi]))\n",
    "\n"
   ]
  },
  {
   "cell_type": "code",
   "execution_count": 10,
   "metadata": {},
   "outputs": [
    {
     "name": "stdout",
     "output_type": "stream",
     "text": [
      "Success\n"
     ]
    }
   ],
   "source": [
    "t__ = time.time()\n",
    "if (t__ - t2) > dt:\n",
    "    print(\"Error: Time difference too big\")\n",
    "    exit(1)\n",
    "    \n",
    "ci_ = h(concat([didi , t2 , ki , pkgw])) ^ h(concat([k , xi]))\n",
    "if ci_ != ci:\n",
    "    print(\"Error: ci_ != ci\")\n",
    "else :\n",
    "    print(\"Success\")\n",
    "\n",
    "    "
   ]
  },
  {
   "cell_type": "code",
   "execution_count": null,
   "metadata": {},
   "outputs": [],
   "source": []
  }
 ],
 "metadata": {
  "kernelspec": {
   "display_name": "gpy12",
   "language": "python",
   "name": "python3"
  },
  "language_info": {
   "codemirror_mode": {
    "name": "ipython",
    "version": 3
   },
   "file_extension": ".py",
   "mimetype": "text/x-python",
   "name": "python",
   "nbconvert_exporter": "python",
   "pygments_lexer": "ipython3",
   "version": "3.12.2"
  }
 },
 "nbformat": 4,
 "nbformat_minor": 2
}
